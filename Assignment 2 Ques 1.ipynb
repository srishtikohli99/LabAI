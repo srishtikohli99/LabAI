{
 "cells": [
  {
   "cell_type": "code",
   "execution_count": 1,
   "metadata": {},
   "outputs": [],
   "source": [
    "from collections import defaultdict "
   ]
  },
  {
   "cell_type": "markdown",
   "metadata": {},
   "source": [
    "## Uninformed Search Algorithms\n",
    "##### Scenario: Consider the vacuum world scenario discussed in class. The only change is that instead of two rooms, there are four rooms (as shown below), one vacuum cleaner and a room may or may not contain dirt.\n",
    " _____________________________________________________________________________ <br>\n",
    " |  Room 1  |  Room 2  | <br>\n",
    " ______________________________________________________________________________ <br>\n",
    " |  Room 3  |  Room 4  | <br>\n",
    " _______________________________________________________________________________ <br>\n",
    "\n",
    "Inputs:\n",
    "Write a python program that takes four inputs. First line of input file specifies the room number in which vacuum cleaner is located, second line specifies the presence or absence {1 or 0} of dirt in rooms 1, 2, 3 and 4, respectively, each separated by a comma, and third line in input file specifies the algorithm to be used.\n",
    "\n",
    "\n",
    "Solve for the following search strategies:<br>\n",
    "dfs:depth first search <br>\n",
    "bfs:breadth first search <br>\n",
    "dls:depth limited search, use 3 as default depth <br>\n",
    "\n",
    "Assume valid actions as {L,R,U,D,S,N} where L=move_left, R=move_right, U=move_up, D=move_down, S=suck_dirt and N=no_op.\n"
   ]
  },
  {
   "cell_type": "code",
   "execution_count": 2,
   "metadata": {},
   "outputs": [],
   "source": [
    "class Graph: \n",
    "  \n",
    "    def __init__(self): \n",
    "          self.graph = defaultdict(list) \n",
    "  \n",
    "    def addEdge(self,u,v,action): \n",
    "        #newnode=Node(v,action)\n",
    "        self.graph[u].append([v,action]) \n",
    "    \n",
    "    def isvalid(self,x,y,n):\n",
    "        if(x<0 or y<0 or x>=n or y>=n):\n",
    "            return 0\n",
    "        return 1\n",
    "    \n",
    "    def show(self):\n",
    "        for i in range(len(self.graph)):\n",
    "            print(self.graph[i])\n",
    "    \n",
    "    #Deapth First Search\n",
    "    def DFSUtil(self, v, visited,count,path,dirt): \n",
    "        if(dirt[v]==1):\n",
    "            count=count-1\n",
    "            path.append(v)\n",
    "            path.append(\"S\")\n",
    "        \n",
    "        if(count==0):\n",
    "            print(path)\n",
    "            path.pop()\n",
    "            path.pop()\n",
    "            return\n",
    "        \n",
    "#        print(count)\n",
    "        visited[v]=True\n",
    "#        print(v,end='')\n",
    "        \n",
    "        \n",
    "        for i in range(len(self.graph[v])):\n",
    "            if(visited[self.graph[v][i][0]]==False):\n",
    "#                print(self.graph[v][i][0])\n",
    "                path.append(v)\n",
    "                path.append(self.graph[v][i][1])\n",
    "                self.DFSUtil(self.graph[v][i][0],visited,count,path,dirt)\n",
    "                path.pop()\n",
    "                path.pop()\n",
    "                \n",
    "        visited[v]=False           \n",
    "  \n",
    "    def DFS(self,v,dirt):   \n",
    "        visited = [False] * (len(self.graph))  \n",
    "        path=[]\n",
    "        self.DFSUtil(v, visited,2,path,dirt) \n",
    "    \n",
    "    #Breadth First Search\n",
    "    def BFS(self,v,dirt):\n",
    "        visited=[False]*(len(self.graph))\n",
    "        q=[]\n",
    "        visited[v]=True\n",
    "        count=2\n",
    "        path=[]\n",
    "        q.append([v,path])\n",
    "            \n",
    "        \n",
    "        while q:\n",
    "            curr=q.pop(0)\n",
    "            currpath=curr[1]            \n",
    "            currvert=curr[0]\n",
    "            if(dirt[currvert]==1):\n",
    "                            currpath.append(currvert)\n",
    "                            currpath.append(\"S\")\n",
    "                            count=count-1\n",
    "                            if(count==0):\n",
    "                                print(currpath)\n",
    "                    \n",
    "            for i in range(len(self.graph[currvert])):\n",
    "                if(visited[self.graph[currvert][i][0]]==False):\n",
    "                    newpath=[]\n",
    "                    newpath.append(currvert)\n",
    "                    newpath.append(self.graph[currvert][i][1]) \n",
    "                    newpath=currpath+newpath\n",
    "                    q.append([self.graph[currvert][i][0],newpath])\n",
    "                    visited[self.graph[currvert][i][0]]=True\n",
    "     \n",
    "    #Deapth Limited Search\n",
    "    def DLSUtil(self, v, visited,count,path,dirt,level): \n",
    "        if(level==0):\n",
    "            return\n",
    "        \n",
    "        if(dirt[v]==1):\n",
    "            count=count-1\n",
    "            path.append(v)\n",
    "            path.append(\"S\")\n",
    "        \n",
    "        if(count==0):\n",
    "            print(path)\n",
    "            path.pop()\n",
    "            path.pop()\n",
    "            return\n",
    "        \n",
    "#        print(count)\n",
    "        visited[v]=True\n",
    "#        print(v,end='')\n",
    "        \n",
    "        \n",
    "        for i in range(len(self.graph[v])):\n",
    "            if(visited[self.graph[v][i][0]]==False):\n",
    "#                print(self.graph[v][i][0])\n",
    "                path.append(v)\n",
    "                path.append(self.graph[v][i][1])\n",
    "                self.DLSUtil(self.graph[v][i][0],visited,count,path,dirt,level-1)\n",
    "                path.pop()\n",
    "                path.pop()\n",
    "                \n",
    "        visited[v]=False           \n",
    "  \n",
    "    def DLS(self,v,dirt,level=3):   \n",
    "        visited = [False] * (len(self.graph))  \n",
    "        path=[]\n",
    "        self.DLSUtil(v, visited,2,path,dirt,level) \n",
    "        \n"
   ]
  },
  {
   "cell_type": "code",
   "execution_count": null,
   "metadata": {},
   "outputs": [],
   "source": []
  },
  {
   "cell_type": "code",
   "execution_count": null,
   "metadata": {},
   "outputs": [],
   "source": []
  },
  {
   "cell_type": "code",
   "execution_count": 3,
   "metadata": {},
   "outputs": [
    {
     "data": {
      "text/plain": [
       "'1\\n0,1,1,0\\nbfs\\n'"
      ]
     },
     "execution_count": 3,
     "metadata": {},
     "output_type": "execute_result"
    }
   ],
   "source": [
    "f = open(\"dfs\", \"r\")\n",
    "s=(f.read())\n",
    "s"
   ]
  },
  {
   "cell_type": "code",
   "execution_count": 4,
   "metadata": {},
   "outputs": [
    {
     "data": {
      "text/plain": [
       "['1', '0,1,1,0', 'bfs', '']"
      ]
     },
     "execution_count": 4,
     "metadata": {},
     "output_type": "execute_result"
    }
   ],
   "source": [
    "file=s.split('\\n')\n",
    "file"
   ]
  },
  {
   "cell_type": "code",
   "execution_count": 5,
   "metadata": {},
   "outputs": [
    {
     "name": "stdout",
     "output_type": "stream",
     "text": [
      "[0, 1, 1, 0]\n",
      "<class 'int'>\n",
      "<class 'str'>\n"
     ]
    }
   ],
   "source": [
    "src=int(file[0])\n",
    "src=src-1 # because array starts from 0\n",
    "\n",
    "dirtstring=file[1].split(',')\n",
    "dirt=[]\n",
    "for i in range (len(dirtstring)): # dirtlist for 4 rooms\n",
    "    dirt.append(int(dirtstring[i]))\n",
    "\n",
    "function=file[2]\n",
    "print(dirt)\n",
    "print(type(src))\n",
    "print(type(function))"
   ]
  },
  {
   "cell_type": "code",
   "execution_count": 6,
   "metadata": {},
   "outputs": [],
   "source": [
    "g = Graph()  \n",
    "\n",
    "xdir=[0,-1,0,1]\n",
    "ydir=[-1,0,1,0] # direction vector\n",
    "dir=[\"L\",\"U\",\"R\",\"D\"]\n",
    "\n",
    "n=2  # no of cols in matrix\n",
    "\n",
    "for i in range(len(dirt)):\n",
    "    row=i//n\n",
    "    col=i%n\n",
    "    for j in range(len(dir)):\n",
    "        x_int=row+xdir[j]\n",
    "        y_int=col+ydir[j]\n",
    "        if(g.isvalid(x_int,y_int,n)):\n",
    "            dest=(x_int*n)+y_int\n",
    "            g.addEdge(i,dest,dir[j])\n",
    "        else:\n",
    "            g.addEdge(i,i,dir[j])"
   ]
  },
  {
   "cell_type": "code",
   "execution_count": 7,
   "metadata": {
    "scrolled": true
   },
   "outputs": [
    {
     "name": "stdout",
     "output_type": "stream",
     "text": [
      "-----------------------------Space graph------------------------------------------\n",
      "\n",
      "[[0, 'L'], [0, 'U'], [1, 'R'], [2, 'D']]\n",
      "[[0, 'L'], [1, 'U'], [1, 'R'], [3, 'D']]\n",
      "[[2, 'L'], [0, 'U'], [3, 'R'], [2, 'D']]\n",
      "[[2, 'L'], [1, 'U'], [3, 'R'], [3, 'D']]\n"
     ]
    }
   ],
   "source": [
    "print(\"-----------------------------Space graph------------------------------------------\")\n",
    "print(\"\")\n",
    "g.show()"
   ]
  },
  {
   "cell_type": "code",
   "execution_count": 8,
   "metadata": {},
   "outputs": [
    {
     "name": "stdout",
     "output_type": "stream",
     "text": [
      "[0, 'R', 1, 'S', 1, 'D', 3, 'L', 2, 'S']\n",
      "[0, 'R', 0, 'D', 2, 'S', 2, 'R', 3, 'U', 1, 'S']\n"
     ]
    }
   ],
   "source": [
    "g.DFS(src,dirt) # DFS"
   ]
  },
  {
   "cell_type": "code",
   "execution_count": 9,
   "metadata": {},
   "outputs": [
    {
     "name": "stdout",
     "output_type": "stream",
     "text": [
      "[0, 'D', 2, 'S']\n"
     ]
    }
   ],
   "source": [
    "g.BFS(src,dirt) # BFS"
   ]
  },
  {
   "cell_type": "code",
   "execution_count": 10,
   "metadata": {},
   "outputs": [],
   "source": [
    "g.DLS(src,dirt) # DLS defaultlimit=3"
   ]
  },
  {
   "cell_type": "code",
   "execution_count": 11,
   "metadata": {},
   "outputs": [],
   "source": [
    "g.DLS(src,dirt,2) # DLS at level does not exist"
   ]
  },
  {
   "cell_type": "code",
   "execution_count": 12,
   "metadata": {},
   "outputs": [
    {
     "name": "stdout",
     "output_type": "stream",
     "text": [
      "[0, 'R', 1, 'S', 1, 'D', 3, 'L', 2, 'S']\n",
      "[0, 'R', 0, 'D', 2, 'S', 2, 'R', 3, 'U', 1, 'S']\n"
     ]
    }
   ],
   "source": [
    "g.DLS(src,dirt,4) # DLS custom value for level"
   ]
  },
  {
   "cell_type": "code",
   "execution_count": null,
   "metadata": {},
   "outputs": [],
   "source": []
  },
  {
   "cell_type": "code",
   "execution_count": null,
   "metadata": {},
   "outputs": [],
   "source": []
  }
 ],
 "metadata": {
  "kernelspec": {
   "display_name": "Python 3",
   "language": "python",
   "name": "python3"
  },
  "language_info": {
   "codemirror_mode": {
    "name": "ipython",
    "version": 3
   },
   "file_extension": ".py",
   "mimetype": "text/x-python",
   "name": "python",
   "nbconvert_exporter": "python",
   "pygments_lexer": "ipython3",
   "version": "3.6.9"
  }
 },
 "nbformat": 4,
 "nbformat_minor": 2
}
