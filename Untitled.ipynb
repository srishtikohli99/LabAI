{
 "cells": [
  {
   "cell_type": "code",
   "execution_count": null,
   "metadata": {},
   "outputs": [],
   "source": [
    "class Sets:\n",
    "    def __init__(obj,set_):   #for initialization\n",
    "        obj.set_ =set_\n",
    "    def Union(obj1,obj2):\n",
    "        obj1.set_ = obj1.set_.union(obj2.set_)\n",
    "        return obj1\n",
    "    def Intersection(obj1,obj2):\n",
    "        obj1.set_ = obj1.set_.intersection(obj2.set_)\n",
    "        return obj1\n",
    "    def Cardinality(obj1):\n",
    "        return len(obj1.set_)"
   ]
  },
  {
   "cell_type": "code",
   "execution_count": null,
   "metadata": {},
   "outputs": [],
   "source": []
  }
 ],
 "metadata": {
  "kernelspec": {
   "display_name": "Python 3",
   "language": "python",
   "name": "python3"
  },
  "language_info": {
   "codemirror_mode": {
    "name": "ipython",
    "version": 3
   },
   "file_extension": ".py",
   "mimetype": "text/x-python",
   "name": "python",
   "nbconvert_exporter": "python",
   "pygments_lexer": "ipython3",
   "version": "3.7.4"
  }
 },
 "nbformat": 4,
 "nbformat_minor": 2
}
