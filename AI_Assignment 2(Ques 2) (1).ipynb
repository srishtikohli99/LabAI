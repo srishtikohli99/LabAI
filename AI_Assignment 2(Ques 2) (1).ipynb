{
 "cells": [
  {
   "cell_type": "code",
   "execution_count": 1,
   "metadata": {},
   "outputs": [],
   "source": [
    "from collections import defaultdict\n",
    "from queue import PriorityQueue\n",
    "import sys"
   ]
  },
  {
   "cell_type": "markdown",
   "metadata": {},
   "source": [
    "### Informed Search Algorithms\n",
    "\n",
    "###### Scenario: Consider a maze consisting of square blocks in which intelligent agent can move either vertically or horizontally. Diagonal movement is not allowed. \n",
    "\n",
    "Cost of each left move is 1<br>\n",
    "Cost of each up move is 2<br>\n",
    "Cost of each right move is 3<br>\n",
    "Cost of each down move is 4<br>\n",
    "\n",
    "Write a python program that takes input number of square blocks as input (i.e. 4 x 4) in first line. Second line contains the initial position of intelligent agent which is (1,1) (shown in blue) and the goal square block which is (4,4) (shown in red) in the above diagram. Third line contains the coordinates of the obstacles. Fourth line contains the search strategy.<br>\n",
    "Solve for the following search strategies:-<br>\n",
    " 1) Best Fit Search<br>\n",
    " 2) Hill climbing<br>\n",
    " 3)Branch and Bound<br>\n",
    " 4)A*\n",
    "\n",
    "\n"
   ]
  },
  {
   "cell_type": "code",
   "execution_count": 2,
   "metadata": {},
   "outputs": [],
   "source": [
    "class Graph: \n",
    "  \n",
    "    def __init__(self): \n",
    "        self.graph = defaultdict(list)\n",
    "        self.ans=99999\n",
    "        self.minpath=[]  \n",
    "        self.mat = [[0 for column in range(16)]  \n",
    "                    for row in range(16)] \n",
    "\n",
    "        \n",
    "    def addEdge(self,u,v,action): \n",
    "        #newnode=Node(v,action)\n",
    "        self.graph[u].append([v,action]) \n",
    "    \n",
    "    def isvalid(self,x,y,total_rows,total_cols,obstaclelist):\n",
    "        if(x<0 or y<0 or x>=total_rows or y>=total_cols or [x,y] in obstaclelist):\n",
    "            return 0\n",
    "        return 1\n",
    "    \n",
    "    def show(self):\n",
    "        for i in range(len(self.graph)):\n",
    "            print(self.graph[i])\n",
    "    \n",
    "    #best first\n",
    "    def Best_First(self,v,goal):\n",
    "        visited=[False]*(len(self.graph))\n",
    "        q=PriorityQueue()\n",
    "        visited[v]=True\n",
    "        path=[]\n",
    "        q.put([0,v,path])\n",
    "        \n",
    "        while q:            \n",
    "            curr=q.get()\n",
    "            currpath=curr[2]            \n",
    "            currvert=curr[1]\n",
    "            \n",
    "            if(currvert==goal):\n",
    "                print(currpath+[currvert,\"H\"])\n",
    "                return\n",
    "            \n",
    "            for i in range(len(self.graph[currvert])):\n",
    "                if(visited[self.graph[currvert][i][0]]==False):\n",
    "                    newpath=[]\n",
    "                    newpath.append(currvert)\n",
    "                    newpath.append(self.graph[currvert][i][1]) \n",
    "                    newpath=currpath+newpath\n",
    "                    q.put([i+1,self.graph[currvert][i][0],newpath])\n",
    "                    visited[self.graph[currvert][i][0]]=True\n",
    "    \n",
    "    #hill climbing\n",
    "    def Hill_Climbing(self,v,goal):\n",
    "        visited=[False]*(len(self.graph))\n",
    "        q=[]\n",
    "        visited[v]=True\n",
    "        count=2\n",
    "        path=[]\n",
    "        q.append([v,path])\n",
    "            \n",
    "        \n",
    "        while q:\n",
    "            curr=q.pop(0)\n",
    "            currpath=curr[1]            \n",
    "            currvert=curr[0]\n",
    "            if(currvert==goal):\n",
    "                            currpath.append(currvert)\n",
    "                            currpath.append(\"H\")\n",
    "                            print(currpath)\n",
    "                            return\n",
    "                    \n",
    "            for i in range(len(self.graph[currvert])):\n",
    "                if(visited[self.graph[currvert][i][0]]==False):\n",
    "                    newpath=[]\n",
    "                    newpath.append(currvert)\n",
    "                    newpath.append(self.graph[currvert][i][1]) \n",
    "                    newpath=currpath+newpath\n",
    "                    q.append([self.graph[currvert][i][0],newpath])\n",
    "                    visited[self.graph[currvert][i][0]]=True\n",
    "                    break\n",
    "        print(\"No sol\")   \n",
    "        \n",
    "     #branch and bound               \n",
    "    def branch_and_bound_Helper(self,v,goal,ans,count,minpath,path,visited):\n",
    "        #print(v)\n",
    "        if(v==goal):\n",
    "            if(count < self.ans):\n",
    "                self.ans=count\n",
    "                self.minpath=path\n",
    "                self.minpath=self.minpath+[goal,\"H\"]\n",
    "            return\n",
    "        \n",
    "        if(count>ans):\n",
    "            return\n",
    "        \n",
    "        visited[v]=True\n",
    "        for i in range(len(self.graph[v])):\n",
    "            if(visited[self.graph[v][i][0]]==False):\n",
    "#                print(self.graph[v][i][0])\n",
    "                path.append(v)\n",
    "                path.append(self.graph[v][i][1])\n",
    "                self.branch_and_bound_Helper(self.graph[v][i][0],goal,ans,count+i+1,minpath,path,visited)\n",
    "                path.pop()\n",
    "                path.pop()\n",
    "                \n",
    "        visited[v]=False  \n",
    "        \n",
    "    def branch_and_bound(self,v,goal):   \n",
    "        visited = [False] * (len(self.graph))  \n",
    "        path=[]\n",
    "        minpath=[]\n",
    "        ans=99999999\n",
    "        self.branch_and_bound_Helper(v,goal,ans,0,minpath,path,visited)\n",
    "        print(self.minpath)\n",
    "        print(self.ans)  \n",
    "        \n",
    "    # A* algo    \n",
    "    def printSolution(self, dist): \n",
    "        for node in range(16):\n",
    "            if(dist[node]==sys.maxsize):\n",
    "                print(node, \"-\", \"infinity\")\n",
    "            else:\n",
    "                print(node, \"-\", dist[node]) \n",
    "  \n",
    "    \n",
    "    def minDistance(self, dist, sptSet):   \n",
    "       \n",
    "        min = sys.maxsize \n",
    "        min_index=0\n",
    "      \n",
    "        for v in range(16): \n",
    "            if dist[v] < min and sptSet[v] == False: \n",
    "                min = dist[v] \n",
    "                min_index = v \n",
    "  \n",
    "        return min_index \n",
    "  \n",
    "\n",
    "    def dijkstra(self, src): \n",
    "  \n",
    "        dist = [sys.maxsize] * 16\n",
    "        path = [[]] * 16\n",
    "        dist[src] = 0\n",
    "        sptSet = [False] * 16 \n",
    "  \n",
    "        for cout in range(16): \n",
    "  \n",
    "            u = self.minDistance(dist, sptSet) \n",
    "            sptSet[u] = True\n",
    "  \n",
    "            for i in range(16): \n",
    "                if self.mat[u][i] > 0 and sptSet[i] == False and dist[i] > dist[u] + self.mat[u][i]: \n",
    "                    path[i].append(self.graph)\n",
    "                    dist[i] = dist[u] + self.mat[u][i] \n",
    "        print(\"Heuristic Values for the vertices are: \")\n",
    "        self.printSolution(dist)\n",
    "#         print(dist[0])\n",
    "#         print(self.mat[0][1])\n",
    "        min_value=99999\n",
    "        idx=0\n",
    "        for i in range(16):\n",
    "            if(self.mat[0][i] < min_value and self.mat[0][i] != 0):\n",
    "                min_value = self.mat[0][i]\n",
    "                idx=i\n",
    "                \n",
    "#         print(min_value)\n",
    "#         print(idx)\n",
    "        \n",
    "        print(\"Nearest node from source(0) is \" + str(idx))\n",
    "        print(\"Min_Distance as per A* algo from 0 to 15 is: \")\n",
    "        print(\"vertex 0\"+\" + vertex \"+str(idx)+\" = \",end=\" \")\n",
    "        print(dist[0]+dist[idx])\n"
   ]
  },
  {
   "cell_type": "code",
   "execution_count": 3,
   "metadata": {},
   "outputs": [
    {
     "data": {
      "text/plain": [
       "'4,4\\n0,0;1,1\\n0,1;1,2;2,2\\nhill\\n'"
      ]
     },
     "execution_count": 3,
     "metadata": {},
     "output_type": "execute_result"
    }
   ],
   "source": [
    "f = open(\"hill\", \"r\")\n",
    "s=(f.read())\n",
    "s"
   ]
  },
  {
   "cell_type": "code",
   "execution_count": 4,
   "metadata": {},
   "outputs": [
    {
     "data": {
      "text/plain": [
       "['4,4', '0,0;1,1', '0,1;1,2;2,2', 'hill', '']"
      ]
     },
     "execution_count": 4,
     "metadata": {},
     "output_type": "execute_result"
    }
   ],
   "source": [
    "file=s.split('\\n')\n",
    "file"
   ]
  },
  {
   "cell_type": "code",
   "execution_count": 5,
   "metadata": {},
   "outputs": [
    {
     "name": "stdout",
     "output_type": "stream",
     "text": [
      "[[-1, 0], [0, 1], [1, 1]]\n"
     ]
    }
   ],
   "source": [
    "size=file[0]\n",
    "src_dest=file[1]\n",
    "obstacle=file[2]\n",
    "function=file[3]\n",
    "\n",
    "total_rows=int(size[0])\n",
    "total_cols=int(size[2])\n",
    "\n",
    "source_row=int(src_dest[0])\n",
    "source_col=int(src_dest[2])\n",
    "dest_row=int(src_dest[4])\n",
    "dest_row=int(src_dest[6])\n",
    "\n",
    "olist=obstacle.split(\";\")\n",
    "\n",
    "obstaclelist=[]\n",
    "for i in range (len(olist)):\n",
    "    x=int(olist[i][0])-1\n",
    "    y=int(olist[i][2])-1\n",
    "    obstaclelist.append([x,y])\n",
    "\n",
    "print(obstaclelist)\n"
   ]
  },
  {
   "cell_type": "code",
   "execution_count": 6,
   "metadata": {},
   "outputs": [],
   "source": [
    "g = Graph() \n",
    "\n",
    "xdir=[0,-1,0,1]\n",
    "ydir=[-1,0,1,0]\n",
    "dir=[\"L\",\"U\",\"R\",\"D\"] # values are 1,2,3,4\n",
    "\n",
    "for i in range(total_rows*total_cols):\n",
    "    row=i//total_rows\n",
    "    col=i%total_cols\n",
    "    for j in range(len(dir)):\n",
    "        x_int=row+xdir[j]\n",
    "        y_int=col+ydir[j]\n",
    "        \n",
    "        if([row,col] in obstaclelist):\n",
    "            g.addEdge(i,i,dir[j])\n",
    "\n",
    "        else:\n",
    "            if(g.isvalid(x_int,y_int,total_rows,total_cols,obstaclelist)):\n",
    "                dest=(x_int*total_cols)+y_int\n",
    "                g.addEdge(i,dest,dir[j])\n",
    "            else:\n",
    "                g.addEdge(i,i,dir[j])"
   ]
  },
  {
   "cell_type": "code",
   "execution_count": 7,
   "metadata": {},
   "outputs": [
    {
     "name": "stdout",
     "output_type": "stream",
     "text": [
      "______________State Space Graph_____________\n",
      "\n",
      "[[0, 'L'], [0, 'U'], [0, 'R'], [4, 'D']]\n",
      "[[1, 'L'], [1, 'U'], [1, 'R'], [1, 'D']]\n",
      "[[2, 'L'], [2, 'U'], [3, 'R'], [6, 'D']]\n",
      "[[2, 'L'], [3, 'U'], [3, 'R'], [7, 'D']]\n",
      "[[4, 'L'], [0, 'U'], [4, 'R'], [8, 'D']]\n",
      "[[5, 'L'], [5, 'U'], [5, 'R'], [5, 'D']]\n",
      "[[6, 'L'], [2, 'U'], [7, 'R'], [10, 'D']]\n",
      "[[6, 'L'], [3, 'U'], [7, 'R'], [11, 'D']]\n",
      "[[8, 'L'], [4, 'U'], [9, 'R'], [12, 'D']]\n",
      "[[8, 'L'], [9, 'U'], [10, 'R'], [13, 'D']]\n",
      "[[9, 'L'], [6, 'U'], [11, 'R'], [14, 'D']]\n",
      "[[10, 'L'], [7, 'U'], [11, 'R'], [15, 'D']]\n",
      "[[12, 'L'], [8, 'U'], [13, 'R'], [12, 'D']]\n",
      "[[12, 'L'], [9, 'U'], [14, 'R'], [13, 'D']]\n",
      "[[13, 'L'], [10, 'U'], [15, 'R'], [14, 'D']]\n",
      "[[14, 'L'], [11, 'U'], [15, 'R'], [15, 'D']]\n"
     ]
    }
   ],
   "source": [
    "print(\"______________State Space Graph_____________\")\n",
    "print(\"\")\n",
    "g.show()"
   ]
  },
  {
   "cell_type": "code",
   "execution_count": 8,
   "metadata": {},
   "outputs": [],
   "source": [
    "if(function=='best_first'):\n",
    "    g.Best_First(0,15)"
   ]
  },
  {
   "cell_type": "code",
   "execution_count": 9,
   "metadata": {},
   "outputs": [],
   "source": [
    "if(function=='branch_bound'):\n",
    "    g.branch_and_bound(0,15)"
   ]
  },
  {
   "cell_type": "code",
   "execution_count": 10,
   "metadata": {},
   "outputs": [
    {
     "name": "stdout",
     "output_type": "stream",
     "text": [
      "[0, 'D', 4, 'D', 8, 'R', 9, 'R', 10, 'U', 6, 'U', 2, 'R', 3, 'D', 7, 'D', 11, 'D', 15, 'H']\n"
     ]
    }
   ],
   "source": [
    "if(function=='hill'):\n",
    "    g.Hill_Climbing(0,15)"
   ]
  },
  {
   "cell_type": "code",
   "execution_count": 11,
   "metadata": {},
   "outputs": [],
   "source": [
    "if(function=='A*'):\n",
    "    for i in range(len(g.graph)):\n",
    "        for j in range(len(g.graph[i])):\n",
    "            if(g.graph[i][j][0]==i):\n",
    "                continue\n",
    "            if(g.graph[i][j][1]=='L'):\n",
    "                g.mat[i][g.graph[i][j][0]]=1\n",
    "            if(g.graph[i][j][1]=='U'):\n",
    "                g.mat[i][g.graph[i][j][0]]=2\n",
    "            if(g.graph[i][j][1]=='R'):\n",
    "                g.mat[i][g.graph[i][j][0]]=3\n",
    "            if(g.graph[i][j][1]=='D'):\n",
    "                g.mat[i][g.graph[i][j][0]]=4\n",
    "\n",
    "    print(\"adjacency matrix for given graph: \")\n",
    "    print(g.mat)\n",
    "    g.dijkstra(len(g.graph)-1)"
   ]
  },
  {
   "cell_type": "code",
   "execution_count": null,
   "metadata": {},
   "outputs": [],
   "source": []
  },
  {
   "cell_type": "code",
   "execution_count": null,
   "metadata": {},
   "outputs": [],
   "source": []
  }
 ],
 "metadata": {
  "kernelspec": {
   "display_name": "Python 3",
   "language": "python",
   "name": "python3"
  },
  "language_info": {
   "codemirror_mode": {
    "name": "ipython",
    "version": 3
   },
   "file_extension": ".py",
   "mimetype": "text/x-python",
   "name": "python",
   "nbconvert_exporter": "python",
   "pygments_lexer": "ipython3",
   "version": "3.6.9"
  }
 },
 "nbformat": 4,
 "nbformat_minor": 2
}
