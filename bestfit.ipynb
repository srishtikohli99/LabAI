{
 "cells": [
  {
   "cell_type": "code",
   "execution_count": 1,
   "metadata": {},
   "outputs": [],
   "source": [
    "class pair:\n",
    "    def __init__(self,a,b):\n",
    "        self.a=a\n",
    "        self.b=b\n",
    "\n",
    "\n",
    "def best_fit(matrix,curr_x,curr_y,goal_x,goal_y,r,c,ans):\n",
    "    \n",
    "    while 1:\n",
    "        next_x= curr_x\n",
    "        next_y= curr_y\n",
    "        matrix[curr_x-1][curr_y-1]=0\n",
    "        val=100000\n",
    "        \n",
    "        if curr_y>1 and matrix[curr_x-1][curr_y-2]==1:\n",
    "            new_val1=3\n",
    "            #new_val1=check_dir(curr_x-1,curr_y-2,matrix,r,c)\n",
    "            if new_val1<val:\n",
    "                next_x=curr_X\n",
    "                next_y=curr_y-1\n",
    "                val=new_val1\n",
    "                \n",
    "        if curr_x>1 and matrix[curr_x-2][curr_y-1]==1:\n",
    "            new_val2=2\n",
    "            #new_val2=check_dir(curr_x-2,curr_y-1,matrix,r,c)\n",
    "            if new_val2<val:\n",
    "                next_x=curr_x-1\n",
    "                next_y=curr_y\n",
    "                val=new_val2\n",
    "                \n",
    "        if curr_x<c and matrix[curr_x][curr_y-1]==1:\n",
    "            new_val3=1\n",
    "            #new_val3=check_dir(curr_x,curr_y-1,matrix,r,c)\n",
    "            if new_val3<val:\n",
    "                next_x=curr_x+1\n",
    "                next_y=curr_y\n",
    "                val=new_val3\n",
    "\n",
    "        if curr_y<r and matrix[curr_x-1][curr_y]==1:\n",
    "            new_val4=4\n",
    "            #new_val4=check_dir(curr_x-1,curr_y,matrix,r,c)\n",
    "            if new_val4<val:\n",
    "                next_x=curr_x\n",
    "                next_y=curr_y+1\n",
    "                val=new_val4\n",
    "\n",
    "        if next_x==curr_x and next_y==curr_y:\n",
    "            curr_x=0\n",
    "            curr_y=0\n",
    "            continue\n",
    "            \n",
    "        pair1=pair(next_x,next_y)\n",
    "        ans.append(pair1)\n",
    "        curr_x=next_x\n",
    "        curr_y=next_y\n",
    "        if next_x==goal_x and next_y==goal_y:\n",
    "            break\n",
    "            \n"
   ]
  },
  {
   "cell_type": "code",
   "execution_count": 2,
   "metadata": {},
   "outputs": [
    {
     "data": {
      "text/plain": [
       "['3,3', ['0,0', '1,1'], ['0,1', '1,2', '2,2'], 'hill', '']"
      ]
     },
     "execution_count": 2,
     "metadata": {},
     "output_type": "execute_result"
    }
   ],
   "source": [
    "file=open(\"hill\")\n",
    "data=file.read()\n",
    "list=data.split('\\n')\n",
    "list[1]=list[1].split(';')\n",
    "list[2]=list[2].split(';')\n",
    "list"
   ]
  },
  {
   "cell_type": "code",
   "execution_count": 3,
   "metadata": {},
   "outputs": [],
   "source": [
    "rc=list[0].split(',')\n",
    "r=int(rc[0])\n",
    "c=int(rc[1])\n",
    "initxy = list[1][0].split(',')\n",
    "goalxy = list[1][1].split(',')"
   ]
  },
  {
   "cell_type": "code",
   "execution_count": 4,
   "metadata": {},
   "outputs": [],
   "source": [
    "curr_x = int(initxy[0])\n",
    "curr_y = int(initxy[1])\n",
    "goal_x = int(goalxy[0])\n",
    "goal_y = int(goalxy[1])"
   ]
  },
  {
   "cell_type": "code",
   "execution_count": 5,
   "metadata": {},
   "outputs": [],
   "source": [
    "list2=[]\n",
    "matrix=[]\n",
    "for i in range(r):\n",
    "        a=[]\n",
    "        for j in range(c):\n",
    "            a.append(1)\n",
    "        matrix.append(a)"
   ]
  },
  {
   "cell_type": "code",
   "execution_count": 6,
   "metadata": {},
   "outputs": [],
   "source": [
    "for i in range(len(list[2])):\n",
    "    kl=list[2][i].split(',')\n",
    "    k=int(kl[0])\n",
    "    l=int(kl[1])\n",
    "    matrix[k-1][l-1]=0"
   ]
  },
  {
   "cell_type": "code",
   "execution_count": 7,
   "metadata": {},
   "outputs": [
    {
     "data": {
      "text/plain": [
       "[[1, 0, 1], [1, 0, 1], [0, 1, 1]]"
      ]
     },
     "execution_count": 7,
     "metadata": {},
     "output_type": "execute_result"
    }
   ],
   "source": [
    "matrix"
   ]
  },
  {
   "cell_type": "code",
   "execution_count": 8,
   "metadata": {},
   "outputs": [],
   "source": [
    "if list[3]==\"hill\":\n",
    "    ans=[]\n",
    "    best_fit(matrix,curr_x,curr_y,goal_x,goal_y,r,c,ans)\n",
    "    f = open(\"output\", \"w\")\n",
    "    string=\"\"\n",
    "    string=string+str(curr_x)+\",\"+str(curr_y)\n",
    "    f.write(string)\n",
    "    f.write(\"\\n\")\n",
    "    for x in range(len(ans)):\n",
    "        pair2=ans[x]\n",
    "        string=\"\"           \n",
    "        string = str(pair2.a)+\",\"+str(pair2.b)\n",
    "        f.write(string)\n",
    "        f.write(\"\\n\")\n",
    "    f.close()"
   ]
  },
  {
   "cell_type": "code",
   "execution_count": null,
   "metadata": {},
   "outputs": [],
   "source": []
  }
 ],
 "metadata": {
  "kernelspec": {
   "display_name": "Python 3",
   "language": "python",
   "name": "python3"
  },
  "language_info": {
   "codemirror_mode": {
    "name": "ipython",
    "version": 3
   },
   "file_extension": ".py",
   "mimetype": "text/x-python",
   "name": "python",
   "nbconvert_exporter": "python",
   "pygments_lexer": "ipython3",
   "version": "3.6.9"
  }
 },
 "nbformat": 4,
 "nbformat_minor": 2
}
