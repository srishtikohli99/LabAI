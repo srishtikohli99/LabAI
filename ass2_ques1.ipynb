{
 "cells": [
  {
   "cell_type": "code",
   "execution_count": 1,
   "metadata": {},
   "outputs": [],
   "source": [
    "f=open(\"output\",\"w\")\n",
    "graph = {\n",
    "  '1' : [['2','R'],['3','D']],\n",
    "  '2' : [['1','L'], ['4','D']],\n",
    "  '3' : [['1','U'],['4','R']],\n",
    "  '4' : [['2','U'],['3','L']],\n",
    "}\n",
    "\n",
    "\n",
    "visited = [] # List to keep track of visited nodes.\n",
    "queue = []     #Initialize a queue\n",
    "bidir_nodes1=[]\n",
    "bidir_nodes2=[]"
   ]
  },
  {
   "cell_type": "code",
   "execution_count": 2,
   "metadata": {},
   "outputs": [],
   "source": [
    "def check_dir(a,b):\n",
    "    flag=0\n",
    "    for neighbour in graph[a]:\n",
    "        if neighbour[0]==b:\n",
    "            return neighbour[1]\n",
    "            flag=1\n",
    "    if flag==0:\n",
    "        return 'd'"
   ]
  },
  {
   "cell_type": "code",
   "execution_count": 3,
   "metadata": {},
   "outputs": [],
   "source": [
    "def bfs(visited, graph, node):\n",
    "    visited.append(node)\n",
    "    queue.append(node)\n",
    "    nodes=[]\n",
    "    while queue:\n",
    "        s = queue.pop(0) \n",
    "        nodes.append(s)\n",
    "        for neighbour in graph[s]:\n",
    "            if neighbour[0] not in visited:\n",
    "                visited.append(neighbour[0])\n",
    "                queue.append(neighbour[0])\n",
    "                \n",
    "    return nodes"
   ]
  },
  {
   "cell_type": "code",
   "execution_count": 4,
   "metadata": {},
   "outputs": [],
   "source": [
    "nodes_dfs=[]\n",
    "def dfs(visited, graph, node):\n",
    "    if node not in visited:\n",
    "        nodes_dfs.append(node),\n",
    "        visited.append(node)\n",
    "        for neighbour in graph[node]:\n",
    "            dfs(visited, graph, neighbour[0])\n",
    "            "
   ]
  },
  {
   "cell_type": "code",
   "execution_count": 5,
   "metadata": {},
   "outputs": [],
   "source": [
    "nodes_dls=[]\n",
    "def dls(visited, graph, node,level):\n",
    "    if level==0:\n",
    "        return\n",
    "    if node not in visited:\n",
    "        nodes_dls.append(node),\n",
    "        visited.append(node)\n",
    "        for neighbour in graph[node]:\n",
    "            dls(visited, graph, neighbour[0],level-1)\n",
    "            "
   ]
  },
  {
   "cell_type": "code",
   "execution_count": 6,
   "metadata": {},
   "outputs": [],
   "source": [
    "def bidir(visited1,visited2,graph,node1,node2):\n",
    "    visited1.append(node1)\n",
    "    queue1=[]\n",
    "    queue2=[]\n",
    "    queue1.append(node1)\n",
    "    visited2.append(node2)\n",
    "    queue2.append(node2)\n",
    "    nodes=[]\n",
    "    nodes2=[]\n",
    "    while queue1 or queue2:\n",
    "        s1 = queue1.pop(0) \n",
    "        \n",
    "        if s1 in visited2:\n",
    "            print(\"Intersection\")\n",
    "            \n",
    "        s2=queue2.pop(0)\n",
    "        if s2 in visited1:\n",
    "            print(\"Intersection2\")\n",
    "            \n",
    "        nodes.append(s1)\n",
    "        nodes2.append(s2)\n",
    "        print(\"nodes\")\n",
    "        print(nodes)\n",
    "        for neighbour in graph[s1]:\n",
    "            if neighbour[0] not in visited1:\n",
    "                visited1.append(neighbour[0])\n",
    "                queue1.append(neighbour[0])\n",
    "                \n",
    "        for neighbour in graph[s2]:\n",
    "            if neighbour[0] not in visited2:\n",
    "                visited2.append(neighbour[0])\n",
    "                queue2.append(neighbour[0])\n",
    "                \n",
    "    bidir_nodes1.extend(nodes)\n",
    "    bidir_nodes2.extend(nodes2)\n",
    "    \n"
   ]
  },
  {
   "cell_type": "code",
   "execution_count": null,
   "metadata": {},
   "outputs": [],
   "source": []
  },
  {
   "cell_type": "code",
   "execution_count": 7,
   "metadata": {},
   "outputs": [],
   "source": [
    "def print_func(nodes,n_dirty):\n",
    "    \n",
    "    for i in range(len(nodes)):\n",
    "        if n_dirty==0:\n",
    "            break\n",
    "        if (dirty[int(nodes[i])]):\n",
    "            f.write(nodes[i]+\",S\")\n",
    "            f.write(\"\\n\")\n",
    "            n_dirty-=1\n",
    "        if n_dirty==0:\n",
    "            break\n",
    "        if i<len(nodes):\n",
    "            f.write(nodes[i]+\",\"+ check_dir(nodes[i],nodes[i+1]))   \n",
    "            f.write(\"\\n\")"
   ]
  },
  {
   "cell_type": "code",
   "execution_count": 8,
   "metadata": {},
   "outputs": [
    {
     "data": {
      "text/plain": [
       "['0', '1', '1', '0']"
      ]
     },
     "execution_count": 8,
     "metadata": {},
     "output_type": "execute_result"
    }
   ],
   "source": [
    "dirty=[0]\n",
    "file=open(\"dfs\")\n",
    "data=file.read()\n",
    "list_=data.split('\\n')\n",
    "start=list_[0]\n",
    "list_room = list_[1].split(',')\n",
    "list_room\n"
   ]
  },
  {
   "cell_type": "code",
   "execution_count": 9,
   "metadata": {},
   "outputs": [
    {
     "name": "stdout",
     "output_type": "stream",
     "text": [
      "nodes\n",
      "['1']\n",
      "Intersection\n",
      "Intersection2\n",
      "nodes\n",
      "['1', '2']\n",
      "Intersection\n",
      "Intersection2\n",
      "nodes\n",
      "['1', '2', '3']\n",
      "Intersection\n",
      "Intersection2\n",
      "nodes\n",
      "['1', '2', '3', '4']\n"
     ]
    }
   ],
   "source": [
    "n_dirty=0\n",
    "nodes=\"\"\n",
    "for i in range(len(list_room)):\n",
    "    if list_room[i]=='1':\n",
    "        n_dirty+=1\n",
    "    dirty.append(int(list_room[i]))\n",
    "    \n",
    "if list_[2] == \"bfs\":\n",
    "    nodes=bfs(visited, graph, start)\n",
    "    print_func(nodes,n_dirty)\n",
    "elif list_[2]==\"dfs\":\n",
    "    dfs(visited, graph, start)\n",
    "    nodes=nodes_dfs\n",
    "    print_func(nodes,n_dirty)\n",
    "elif list_[2]==\"dls\":\n",
    "    dls(visited,graph,start,3)\n",
    "    nodes=nodes_dls\n",
    "    print_func(nodes,n_dirty)\n",
    "elif list_[2]==\"bidir\":\n",
    "    visited1=[]\n",
    "    visited2=[]\n",
    "    bidir(visited1,visited2,graph,'1','4')\n",
    "    print_func(bidir_nodes1,n_dirty)\n",
    "    f.write(\"\\n\")\n",
    "    print_func(bidir_nodes2,n_dirty)\n",
    "    \n"
   ]
  },
  {
   "cell_type": "code",
   "execution_count": 10,
   "metadata": {},
   "outputs": [
    {
     "data": {
      "text/plain": [
       "['1', '2', '3', '4']"
      ]
     },
     "execution_count": 10,
     "metadata": {},
     "output_type": "execute_result"
    }
   ],
   "source": [
    "bidir_nodes1"
   ]
  },
  {
   "cell_type": "code",
   "execution_count": null,
   "metadata": {},
   "outputs": [],
   "source": [
    "\n",
    "   "
   ]
  },
  {
   "cell_type": "markdown",
   "metadata": {},
   "source": []
  },
  {
   "cell_type": "code",
   "execution_count": 11,
   "metadata": {},
   "outputs": [],
   "source": [
    "f.close()"
   ]
  }
 ],
 "metadata": {
  "kernelspec": {
   "display_name": "Python 3",
   "language": "python",
   "name": "python3"
  },
  "language_info": {
   "codemirror_mode": {
    "name": "ipython",
    "version": 3
   },
   "file_extension": ".py",
   "mimetype": "text/x-python",
   "name": "python",
   "nbconvert_exporter": "python",
   "pygments_lexer": "ipython3",
   "version": "3.6.9"
  }
 },
 "nbformat": 4,
 "nbformat_minor": 2
}
