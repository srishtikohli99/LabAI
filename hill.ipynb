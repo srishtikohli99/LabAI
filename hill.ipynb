{
 "cells": [
  {
   "cell_type": "code",
   "execution_count": 3,
   "metadata": {},
   "outputs": [],
   "source": [
    "file = open('hill')"
   ]
  },
  {
   "cell_type": "code",
   "execution_count": 4,
   "metadata": {},
   "outputs": [],
   "source": [
    "data = file.read()"
   ]
  },
  {
   "cell_type": "code",
   "execution_count": 5,
   "metadata": {},
   "outputs": [
    {
     "data": {
      "text/plain": [
       "'4,4\\n1,1;4,4\\n2,3;2,4;3,2\\nhill'"
      ]
     },
     "execution_count": 5,
     "metadata": {},
     "output_type": "execute_result"
    }
   ],
   "source": [
    "data"
   ]
  },
  {
   "cell_type": "code",
   "execution_count": 6,
   "metadata": {
    "scrolled": true
   },
   "outputs": [
    {
     "data": {
      "text/plain": [
       "['4,4', '1,1;4,4', '2,3;2,4;3,2', 'hill']"
      ]
     },
     "execution_count": 6,
     "metadata": {},
     "output_type": "execute_result"
    }
   ],
   "source": [
    "list=data.split('\\n')\n",
    "list"
   ]
  },
  {
   "cell_type": "code",
   "execution_count": 7,
   "metadata": {},
   "outputs": [],
   "source": [
    "list[1]=list[1].split(';')\n"
   ]
  },
  {
   "cell_type": "code",
   "execution_count": 8,
   "metadata": {},
   "outputs": [
    {
     "data": {
      "text/plain": [
       "['4,4', ['1,1', '4,4'], '2,3;2,4;3,2', 'hill']"
      ]
     },
     "execution_count": 8,
     "metadata": {},
     "output_type": "execute_result"
    }
   ],
   "source": [
    "list"
   ]
  },
  {
   "cell_type": "code",
   "execution_count": 9,
   "metadata": {},
   "outputs": [
    {
     "data": {
      "text/plain": [
       "['4,4', ['1,1', '4,4'], ['2,3', '2,4', '3,2'], 'hill']"
      ]
     },
     "execution_count": 9,
     "metadata": {},
     "output_type": "execute_result"
    }
   ],
   "source": [
    "list[2]=list[2].split(';')\n",
    "list"
   ]
  },
  {
   "cell_type": "code",
   "execution_count": 10,
   "metadata": {},
   "outputs": [],
   "source": [
    "rc=list[0].split(',')\n",
    "r=int(rc[0])\n",
    "c=int(rc[1])\n",
    "initxy = list[1][0].split(',')\n",
    "goalxy = list[1][1].split(',')"
   ]
  },
  {
   "cell_type": "code",
   "execution_count": 11,
   "metadata": {},
   "outputs": [],
   "source": [
    "curr_x = int(initxy[0])\n",
    "curr_y = int(initxy[1])\n",
    "goal_x = int(goalxy[0])\n",
    "goal_y = int(goalxy[1])"
   ]
  },
  {
   "cell_type": "code",
   "execution_count": 12,
   "metadata": {},
   "outputs": [],
   "source": [
    "list2=[]\n",
    "matrix=[]\n",
    "for i in range(r):\n",
    "        a=[]\n",
    "        for j in range(c):\n",
    "            a.append(1)\n",
    "        matrix.append(a)\n"
   ]
  },
  {
   "cell_type": "code",
   "execution_count": 13,
   "metadata": {},
   "outputs": [
    {
     "data": {
      "text/plain": [
       "[[1, 1, 1, 1], [1, 1, 1, 1], [1, 1, 1, 1], [1, 1, 1, 1]]"
      ]
     },
     "execution_count": 13,
     "metadata": {},
     "output_type": "execute_result"
    }
   ],
   "source": [
    "matrix"
   ]
  },
  {
   "cell_type": "code",
   "execution_count": 14,
   "metadata": {},
   "outputs": [],
   "source": [
    "for i in range(len(list[2])):\n",
    "    kl=list[2][i].split(',')\n",
    "    k=int(kl[0])\n",
    "    l=int(kl[1])\n",
    "    matrix[k-1][l-1]=0"
   ]
  },
  {
   "cell_type": "code",
   "execution_count": 15,
   "metadata": {},
   "outputs": [],
   "source": [
    "if list[3]==\"hill\":\n",
    "    hill_climbing(matrix,curr_x,curr_y,goal_x,goal_y,r,c)  "
   ]
  },
  {
   "cell_type": "code",
   "execution_count": 2,
   "metadata": {},
   "outputs": [],
   "source": [
    "def check_dir(x,y,matrix,r,c):\n",
    "    val=1\n",
    "    if x>0 and matrix[x-1][y]==0:\n",
    "        val=val+1\n",
    "    if y>0 and matrix[x][y-1]==0:\n",
    "        val=val+1\n",
    "    if x<r-1 and matrix[x+1][y]==0:\n",
    "        val=val+1\n",
    "    if y<r-1 and matrix[x][y+1]==0:\n",
    "        val=val+1\n",
    "    return val\n",
    "\n",
    "def hill_climbing(matrix,curr_x,curr_y,goal_x,goal_y,r,c):\n",
    "    f = open(\"output\", \"w\")\n",
    "    string=\"\"\n",
    "    string=string+str(curr_x)+\",\"+str(curr_y)\n",
    "    f.write(string)\n",
    "    f.write(\"\\n\")\n",
    "    while 1:\n",
    "        next_x= curr_x\n",
    "        next_y= curr_y\n",
    "        matrix[curr_x-1][curr_y-1]=0\n",
    "        val=100000\n",
    "        \n",
    "        if curr_y>1 and matrix[curr_x-1][curr_y-2]==1:\n",
    "            new_val1=check_dir(curr_x-1,curr_y-2,matrix,r,c)\n",
    "            if new_val1<val:\n",
    "                next_x=curr_X\n",
    "                next_y=curr_y-1\n",
    "                val=new_val1\n",
    "                \n",
    "        if curr_x>1 and matrix[curr_x-2][curr_y-1]==1:\n",
    "            new_val2=check_dir(curr_x-2,curr_y-1,matrix,r,c)\n",
    "            if new_val2<val:\n",
    "                next_x=curr_x-1\n",
    "                next_y=curr_y\n",
    "                val=new_val2\n",
    "                \n",
    "        if curr_x<c and matrix[curr_x][curr_y-1]==1:\n",
    "            new_val3=check_dir(curr_x,curr_y-1,matrix,r,c)\n",
    "            if new_val3<val:\n",
    "                next_x=curr_x+1\n",
    "                next_y=curr_y\n",
    "                val=new_val3\n",
    "\n",
    "        if curr_y<r and matrix[curr_x-1][curr_y]==1:\n",
    "            new_val4=check_dir(curr_x-1,curr_y,matrix,r,c)\n",
    "            if new_val4<val:\n",
    "                next_x=curr_x\n",
    "                next_y=curr_y+1\n",
    "                val=new_val4\n",
    "\n",
    "        if next_x==curr_x and next_y==curr_y:\n",
    "            f.close()\n",
    "            break\n",
    "\n",
    "        string=\"\"\n",
    "        string=string+str(next_x)+\",\"+str(next_y)\n",
    "        f.write(string)\n",
    "        f.write(\"\\n\")\n",
    "        curr_x=next_x\n",
    "        curr_y=next_y\n",
    "        if next_x==goal_x and next_y==goal_y:\n",
    "            f.close()\n",
    "            break\n"
   ]
  },
  {
   "cell_type": "markdown",
   "metadata": {},
   "source": [
    "# "
   ]
  }
 ],
 "metadata": {
  "kernelspec": {
   "display_name": "Python 3",
   "language": "python",
   "name": "python3"
  },
  "language_info": {
   "codemirror_mode": {
    "name": "ipython",
    "version": 3
   },
   "file_extension": ".py",
   "mimetype": "text/x-python",
   "name": "python",
   "nbconvert_exporter": "python",
   "pygments_lexer": "ipython3",
   "version": "3.6.9"
  }
 },
 "nbformat": 4,
 "nbformat_minor": 2
}
