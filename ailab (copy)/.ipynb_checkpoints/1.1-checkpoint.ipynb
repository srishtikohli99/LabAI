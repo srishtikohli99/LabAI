{
 "cells": [
  {
   "cell_type": "code",
   "execution_count": 2,
   "metadata": {},
   "outputs": [],
   "source": [
    "def add(num1, num2):\n",
    "  num1 += num2\n",
    "  return num1\n",
    "def sub(num1, num2):\n",
    "  num1 -= num2\n",
    "  return num1\n",
    "def mul(num1, num2):\n",
    "  num1 *= num2\n",
    "  return num1\n",
    "def div(num1, num2):\n",
    "    try:\n",
    "        num1 /= num2\n",
    "    except ZeroDivisionError as err: #to handle division with 0\n",
    "        print('0 cannot be divisor. ERROR:', err)\n",
    "        return \n",
    "    return num1\n",
    "def mod(num1, num2):\n",
    "  num1 %= num2\n",
    "  return num1\n",
    "def default(num1, num2):\n",
    "  return \"Incorrect option chosen\"\n",
    "switcher = {\n",
    "    1: add,\n",
    "    2: sub,\n",
    "    3: mul,\n",
    "    4: div,\n",
    "    5: mod\n",
    "}\n"
   ]
  },
  {
   "cell_type": "code",
   "execution_count": 3,
   "metadata": {},
   "outputs": [],
   "source": [
    "def switch(operation, num1, num2): #switch for menu driven code\n",
    "  return switcher.get(operation, default)(num1, num2)\n"
   ]
  },
  {
   "cell_type": "code",
   "execution_count": null,
   "metadata": {},
   "outputs": [
    {
     "name": "stdout",
     "output_type": "stream",
     "text": [
      "You can perform operation\n",
      "1. Addition\n",
      "2. Subtraction\n",
      "3. Multiplication\n",
      "4. Division\n",
      "5. Module \n",
      "Press 0 to exit\n",
      "Select operation from 1,2,3,4 : 4\n",
      "Enter first number: 1\n",
      "Enter second number: 0\n",
      "0 cannot be divisor. ERROR: division by zero\n",
      "None\n",
      "You can perform operation\n",
      "1. Addition\n",
      "2. Subtraction\n",
      "3. Multiplication\n",
      "4. Division\n",
      "5. Module \n",
      "Press 0 to exit\n",
      "Select operation from 1,2,3,4 : 2\n",
      "Enter first number: 45620\n",
      "Enter second number: 35620\n",
      "10000\n",
      "You can perform operation\n",
      "1. Addition\n",
      "2. Subtraction\n",
      "3. Multiplication\n",
      "4. Division\n",
      "5. Module \n",
      "Press 0 to exit\n"
     ]
    }
   ],
   "source": [
    "while 1:\n",
    "    print('''You can perform operation\n",
    "1. Addition\n",
    "2. Subtraction\n",
    "3. Multiplication\n",
    "4. Division\n",
    "5. Module ''')\n",
    "    print(\"Press 0 to exit\")\n",
    "    choice = int(input(\"Select operation from 1,2,3,4 : \"))\n",
    "    if choice == 0:\n",
    "        break #for exit\n",
    "    num1 = int(input(\"Enter first number: \"))\n",
    "    num2 = int(input(\"Enter second number: \"))\n",
    "    print (switch(choice, num1, num2))"
   ]
  },
  {
   "cell_type": "code",
   "execution_count": null,
   "metadata": {},
   "outputs": [],
   "source": []
  }
 ],
 "metadata": {
  "kernelspec": {
   "display_name": "Python 3",
   "language": "python",
   "name": "python3"
  },
  "language_info": {
   "codemirror_mode": {
    "name": "ipython",
    "version": 3
   },
   "file_extension": ".py",
   "mimetype": "text/x-python",
   "name": "python",
   "nbconvert_exporter": "python",
   "pygments_lexer": "ipython3",
   "version": "3.6.10"
  }
 },
 "nbformat": 4,
 "nbformat_minor": 2
}
