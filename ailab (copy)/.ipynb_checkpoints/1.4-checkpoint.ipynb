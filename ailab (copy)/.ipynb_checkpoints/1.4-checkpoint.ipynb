{
 "cells": [
  {
   "cell_type": "code",
   "execution_count": 8,
   "metadata": {},
   "outputs": [],
   "source": [
    "def squareRoot(n,p):  #p is precision ,n is number\n",
    "    start = 0\n",
    "    end = n\n",
    "    ans =0\n",
    "    \n",
    "    while start <= end:  # modified binary search for square root\n",
    "        mid = (start + end) / 2 \n",
    "        if mid * mid == n:  \n",
    "            ans = mid\n",
    "            break \n",
    "            \n",
    "        if mid * mid < n:  \n",
    "            start = mid + 1; \n",
    "            ans = mid; \n",
    "     \n",
    "        else:\n",
    "            end = mid - 1; \n",
    "    inc = 0.1\n",
    "    for i in range(p):\n",
    "        while ans * ans <= n:  #keep incrementing till closest square root reached\n",
    "            ans += inc; \n",
    "  \n",
    "        ans = ans - inc \n",
    "        increment = inc / 10 \n",
    "    return ans\n"
   ]
  },
  {
   "cell_type": "code",
   "execution_count": 10,
   "metadata": {},
   "outputs": [
    {
     "name": "stdout",
     "output_type": "stream",
     "text": [
      "Enter n and p\n",
      "10\n",
      "4\n",
      "3.100000000000001\n"
     ]
    }
   ],
   "source": [
    "print(\"Enter n and p\")\n",
    "n=int(input())\n",
    "p=int(input())\n",
    "print(squareRoot(n,p))"
   ]
  },
  {
   "cell_type": "code",
   "execution_count": null,
   "metadata": {},
   "outputs": [],
   "source": []
  }
 ],
 "metadata": {
  "kernelspec": {
   "display_name": "Python 3",
   "language": "python",
   "name": "python3"
  },
  "language_info": {
   "codemirror_mode": {
    "name": "ipython",
    "version": 3
   },
   "file_extension": ".py",
   "mimetype": "text/x-python",
   "name": "python",
   "nbconvert_exporter": "python",
   "pygments_lexer": "ipython3",
   "version": "3.6.10"
  }
 },
 "nbformat": 4,
 "nbformat_minor": 2
}
