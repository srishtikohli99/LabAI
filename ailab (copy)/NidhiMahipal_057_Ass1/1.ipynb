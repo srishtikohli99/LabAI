{
 "cells": [
  {
   "cell_type": "code",
   "execution_count": 1,
   "metadata": {},
   "outputs": [],
   "source": [
    "def addition(num1, num2): #menu\n",
    "  num1 += num2\n",
    "  return num1\n",
    "def subtract(num1, num2):\n",
    "  num1 -= num2\n",
    "  return num1\n",
    "def multiply(num1, num2):\n",
    "  num1 *= num2\n",
    "  return num1\n",
    "def division(num1, num2):\n",
    "    try:\n",
    "        num1 /= num2\n",
    "    except ZeroDivisionError as err: \n",
    "        print('0 cannot be divisor. ERROR:', err)\n",
    "        return \n",
    "    return num1\n",
    "def modulo(num1, num2):\n",
    "  num1 %= num2\n",
    "  return num1\n",
    "def default(num1, num2):\n",
    "  return \"Incorrect option chosen\"\n",
    "switcher = {\n",
    "    1: addition,\n",
    "    2: subtract,\n",
    "    3: multiply,\n",
    "    4: division,\n",
    "    5: modulo\n",
    "}\n",
    "def switch(operation, num1, num2): \n",
    "  return switcher.get(operation, default)(num1, num2)\n"
   ]
  },
  {
   "cell_type": "code",
   "execution_count": null,
   "metadata": {},
   "outputs": [],
   "source": [
    "\n"
   ]
  },
  {
   "cell_type": "code",
   "execution_count": 2,
   "metadata": {},
   "outputs": [
    {
     "name": "stdout",
     "output_type": "stream",
     "text": [
      "You can perform operation\n",
      "1. Addition\n",
      "2. Subtraction\n",
      "3. Multiplication\n",
      "4. Division\n",
      "5. Module \n",
      "6. Exit\n",
      "Select operation : 6\n"
     ]
    }
   ],
   "source": [
    "while 1: #menu\n",
    "    print('''You can perform operation\n",
    "1. Addition\n",
    "2. Subtraction\n",
    "3. Multiplication\n",
    "4. Division\n",
    "5. Module \n",
    "6. Exit''')\n",
    "    \n",
    "    c = int(input(\"Select operation : \"))\n",
    "    if c == 6:\n",
    "        break \n",
    "    num1 = int(input(\"Enter first number: \"))\n",
    "    num2 = int(input(\"Enter second number: \"))\n",
    "    print (switch(c, num1, num2))"
   ]
  },
  {
   "cell_type": "code",
   "execution_count": null,
   "metadata": {},
   "outputs": [],
   "source": []
  }
 ],
 "metadata": {
  "kernelspec": {
   "display_name": "Python 3",
   "language": "python",
   "name": "python3"
  },
  "language_info": {
   "codemirror_mode": {
    "name": "ipython",
    "version": 3
   },
   "file_extension": ".py",
   "mimetype": "text/x-python",
   "name": "python",
   "nbconvert_exporter": "python",
   "pygments_lexer": "ipython3",
   "version": "3.6.10"
  }
 },
 "nbformat": 4,
 "nbformat_minor": 2
}
