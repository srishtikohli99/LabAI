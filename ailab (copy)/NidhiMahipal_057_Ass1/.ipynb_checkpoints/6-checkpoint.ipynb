{
 "cells": [
  {
   "cell_type": "code",
   "execution_count": 1,
   "metadata": {},
   "outputs": [],
   "source": [
    "class Sets:\n",
    "    def __init__(obj,sett):  \n",
    "        obj.sett =sett\n",
    "    def Union(obj1,obj2):\n",
    "        obj1.sett= obj1.sett.union(obj2.sett)\n",
    "        return obj1\n",
    "    def Intersection(obj1,obj2):\n",
    "        obj1.sett = obj1.sett.intersection(obj2.sett)\n",
    "        return obj1\n",
    "    def Cardinality(obj1):\n",
    "        return len(obj1.sett)"
   ]
  },
  {
   "cell_type": "code",
   "execution_count": 2,
   "metadata": {},
   "outputs": [
    {
     "name": "stdout",
     "output_type": "stream",
     "text": [
      "nidhi\n",
      "mahipal\n"
     ]
    }
   ],
   "source": [
    "s=input()\n",
    "set1= set(s.split(\" \")) \n",
    "s2 = input()\n",
    "set2=set(s2.split(\" \"))"
   ]
  },
  {
   "cell_type": "code",
   "execution_count": 3,
   "metadata": {},
   "outputs": [],
   "source": [
    "obj1 = Sets(set1) \n",
    "obj2 = Sets(set2)"
   ]
  },
  {
   "cell_type": "code",
   "execution_count": 4,
   "metadata": {},
   "outputs": [
    {
     "data": {
      "text/plain": [
       "{'mahipal', 'nidhi'}"
      ]
     },
     "execution_count": 4,
     "metadata": {},
     "output_type": "execute_result"
    }
   ],
   "source": [
    "obj = obj1.Union(obj2) #union\n",
    "obj.sett"
   ]
  },
  {
   "cell_type": "code",
   "execution_count": 5,
   "metadata": {},
   "outputs": [
    {
     "data": {
      "text/plain": [
       "{'mahipal'}"
      ]
     },
     "execution_count": 5,
     "metadata": {},
     "output_type": "execute_result"
    }
   ],
   "source": [
    "obj = obj1.Intersection(obj2) #intersection\n",
    "obj.sett"
   ]
  },
  {
   "cell_type": "code",
   "execution_count": 6,
   "metadata": {},
   "outputs": [
    {
     "data": {
      "text/plain": [
       "1"
      ]
     },
     "execution_count": 6,
     "metadata": {},
     "output_type": "execute_result"
    }
   ],
   "source": [
    "c = obj1.Cardinality()  #cardinality\n",
    "c #cardinality"
   ]
  }
 ],
 "metadata": {
  "kernelspec": {
   "display_name": "Python 3",
   "language": "python",
   "name": "python3"
  },
  "language_info": {
   "codemirror_mode": {
    "name": "ipython",
    "version": 3
   },
   "file_extension": ".py",
   "mimetype": "text/x-python",
   "name": "python",
   "nbconvert_exporter": "python",
   "pygments_lexer": "ipython3",
   "version": "3.6.10"
  }
 },
 "nbformat": 4,
 "nbformat_minor": 2
}
