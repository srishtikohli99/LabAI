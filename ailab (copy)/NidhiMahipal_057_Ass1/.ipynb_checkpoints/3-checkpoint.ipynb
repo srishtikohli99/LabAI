{
 "cells": [
  {
   "cell_type": "code",
   "execution_count": 1,
   "metadata": {},
   "outputs": [],
   "source": [
    "myfile = open(\"abc.txt\")\n",
    "data=myfile.read()"
   ]
  },
  {
   "cell_type": "code",
   "execution_count": 2,
   "metadata": {},
   "outputs": [],
   "source": [
    "count={} #dictionary\n",
    "for i in range(len(data)):\n",
    "    x=count.setdefault(data[i],0)  \n",
    "    count[data[i]]=x+1   \n",
    "    "
   ]
  },
  {
   "cell_type": "code",
   "execution_count": 3,
   "metadata": {},
   "outputs": [
    {
     "data": {
      "text/plain": [
       "{'h': 1,\n",
       " 'e': 2,\n",
       " 'l': 2,\n",
       " 'o': 1,\n",
       " ' ': 3,\n",
       " 'b': 1,\n",
       " 'y': 1,\n",
       " '3': 1,\n",
       " '#': 1,\n",
       " '\\n': 1}"
      ]
     },
     "execution_count": 3,
     "metadata": {},
     "output_type": "execute_result"
    }
   ],
   "source": [
    "count"
   ]
  }
 ],
 "metadata": {
  "kernelspec": {
   "display_name": "Python 3",
   "language": "python",
   "name": "python3"
  },
  "language_info": {
   "codemirror_mode": {
    "name": "ipython",
    "version": 3
   },
   "file_extension": ".py",
   "mimetype": "text/x-python",
   "name": "python",
   "nbconvert_exporter": "python",
   "pygments_lexer": "ipython3",
   "version": "3.6.10"
  }
 },
 "nbformat": 4,
 "nbformat_minor": 2
}
