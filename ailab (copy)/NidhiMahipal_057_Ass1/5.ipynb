{
 "cells": [
  {
   "cell_type": "code",
   "execution_count": 1,
   "metadata": {},
   "outputs": [],
   "source": [
    "cur_x = 0 \n",
    "rate = 0.01 \n",
    "precision = 0.000001 \n",
    "previous_step_size = 1 \n",
    "max_iters = 10000  \n",
    "iters = 0 \n",
    "df = lambda x: 2*(x+3)  "
   ]
  },
  {
   "cell_type": "code",
   "execution_count": 2,
   "metadata": {},
   "outputs": [
    {
     "name": "stdout",
     "output_type": "stream",
     "text": [
      "The local minimum occurs at -2.9999514086927728\n"
     ]
    }
   ],
   "source": [
    "while previous_step_size > precision and iters < max_iters: \n",
    "    prev_x = cur_x \n",
    "    cur_x = cur_x - rate * df(prev_x)   \n",
    "    previous_step_size = abs(cur_x - prev_x) \n",
    "    iters = iters+1     \n",
    "    \n",
    "    \n",
    "print(\"The local minimum occurs at\", cur_x)"
   ]
  },
  {
   "cell_type": "code",
   "execution_count": null,
   "metadata": {},
   "outputs": [],
   "source": []
  }
 ],
 "metadata": {
  "kernelspec": {
   "display_name": "Python 3",
   "language": "python",
   "name": "python3"
  },
  "language_info": {
   "codemirror_mode": {
    "name": "ipython",
    "version": 3
   },
   "file_extension": ".py",
   "mimetype": "text/x-python",
   "name": "python",
   "nbconvert_exporter": "python",
   "pygments_lexer": "ipython3",
   "version": "3.6.10"
  }
 },
 "nbformat": 4,
 "nbformat_minor": 2
}
