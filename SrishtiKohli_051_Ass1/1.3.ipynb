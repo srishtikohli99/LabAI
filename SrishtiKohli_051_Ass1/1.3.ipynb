{
 "cells": [
  {
   "cell_type": "code",
   "execution_count": 1,
   "metadata": {},
   "outputs": [],
   "source": [
    "myfile = open(\"faq.txt\")"
   ]
  },
  {
   "cell_type": "code",
   "execution_count": 2,
   "metadata": {},
   "outputs": [],
   "source": [
    "data=myfile.read() #file contents stored in data"
   ]
  },
  {
   "cell_type": "code",
   "execution_count": 3,
   "metadata": {},
   "outputs": [
    {
     "data": {
      "text/plain": [
       "'When is Tata Power-DDL constrained to disconnect customer electricity?#####When a customer has not paid arrear/outstanding dues of electricity, after serving 15 days of\\ndisconnection notice. Moreover, where statutory body has intimated to Tata Power-DDL for\\ndisconnection and in cases where unsafe situations have been found at site by Tata Power-DDLs zonal\\nstaff, the company may also disconnect electricity after serving un-safe situation notice.#####When will my connection be constrained?#####When a customer has not paid arrear/outstanding dues of electricity, after serving 15 days of\\ndisconnection notice. Moreover, where statutory body has intimated to Tata Power-DDL for\\ndisconnection and in cases where unsafe situations have been found at site by Tata Power-DDLs zonal\\nstaff, the company may also disconnect electricity after serving un-safe situation notice.#####When will my connection be disconnected after nonpayment of bill?#####When a customer has not paid arrear/outstanding dues of electricity, after serving 15 days of\\ndisconnection notice. Moreover, where statutory body has intimated to Tata Power-DDL for\\ndisconnection and in cases where unsafe situations have been found at site by Tata Power-DDLs zonal\\nstaff, the company may also disconnect electricity after serving un-safe situation notice.#####How long can i not pay the bill?#####When a customer has not paid arrear/outstanding dues of electricity, after serving 15 days of\\ndisconnection notice. Moreover, where statutory body has intimated to Tata Power-DDL for\\ndisconnection and in cases where unsafe situations have been found at site by Tata Power-DDLs zonal\\nstaff, the company may also disconnect electricity after serving un-safe situation notice.#####When will my electricity go if bill not paid?#####When a customer has not paid arrear/outstanding dues of electricity, after serving 15 days of\\ndisconnection notice. Moreover, where statutory body has intimated to Tata Power-DDL for\\ndisconnection and in cases where unsafe situations have been found at site by Tata Power-DDLs zonal\\nstaff, the company may also disconnect electricity after serving un-safe situation notice.#####How to apply for disconnection or surrendering of connection and Security Refund?#####Visit your respective District Customer Care Centre and submit the following documents:\\nPhoto ID proof of RC (Registered Customer)\\nApplication/Request form duly signed by RC\\nLatest Paid Bill\\nCopy of cancelled Cheque#####How to get disconnection or surrendering of connection and Security Refund?#####Visit your respective District Customer Care Centre and submit the following documents:\\nPhoto ID proof of RC (Registered Customer)\\nApplication/Request form duly signed by RC\\nLatest Paid Bill\\nCopy of cancelled Cheque#####Can a customer apply for the same meter after surrendering of current meter?#####No, the customer has to apply for new connection which will be with new meter number and CA Number.#####How to apply for reconnection after making the part payment of outstanding amount?#####No Reconnection on part payment is allowed. In order to get a reconnection, customers are\\nrequested to clear 100% outstanding amount against their connection and then visit the respective District Customer Care Centre along with the following documents:\\nPhoto ID proof of RC (Registered Customer)\\nApplication/Request form duly signed by RC\\nLatest Paid Bill#####Can I get the same meter after surrendering of current meter?#####No, the customer has to apply for new connection which will be with new meter number and CA Number.#####How to apply for reconnection after making the part payment of outstanding amount?#####No Reconnection on part payment is allowed. In order to get a reconnection, customers are\\nrequested to clear 100% outstanding amount against their connection and then visit the respective District Customer Care Centre along with the following documents:\\nPhoto ID proof of RC (Registered Customer)\\nApplication/Request form duly signed by RC\\nLatest Paid Bill#####What are the charges for Reconnection within 6 Months?#####Reconnection charges are given below:\\nsingle phase:200\\nthree phase:500\\nIn case of a permanent disconnection, reconnection shall be made on payment of past dues and all\\napplicable charges, if any and on completion of formalities as required for a new connection.#####bill or cost for Reconnection within 6 Months?#####Reconnection charges are given below :\\nsingle phase:200\\nthree phase:500\\nIn case of a permanent disconnection, reconnection shall be made on payment of past dues and all\\napplicable charges, if any and on completion of formalities as required for a new connection.#####price for Reconnection within 6 Months?#####Reconnection charges are given below:\\nsingle phase:200\\nthree phase:500\\nIn case of a permanent disconnection, reconnection shall be made on payment of past dues and all\\napplicable charges, if any and on completion of formalities as required for a new connection.#####How to apply for reconnection?#####In this case, the customer should apply for new connection, through any of the following options:\\nTATA Power-DDL Connect Mobile App\\nOnline through Customer Services section on our website www.tatapower-ddl.com\\nType TPDDL NEW and send to 56070\\nCall our 24X7 Toll Free Sampark Kendra Helpline number at 19124\\nVisit your respective District Customer Care Centre\\n'"
      ]
     },
     "execution_count": 3,
     "metadata": {},
     "output_type": "execute_result"
    }
   ],
   "source": [
    "data"
   ]
  },
  {
   "cell_type": "code",
   "execution_count": 4,
   "metadata": {},
   "outputs": [],
   "source": [
    "alpha_count={} #dictionary to maintain count"
   ]
  },
  {
   "cell_type": "code",
   "execution_count": 5,
   "metadata": {},
   "outputs": [],
   "source": [
    "\n",
    "for i in range(0,len(data),1):\n",
    "    x=alpha_count.setdefault(data[i],0)  #set default value for absent keys as 0\n",
    "    alpha_count[data[i]]=x+1   #increment value by 1 whenever key encountered\n",
    "    "
   ]
  },
  {
   "cell_type": "code",
   "execution_count": 6,
   "metadata": {},
   "outputs": [
    {
     "data": {
      "text/plain": [
       "{'W': 11,\n",
       " 'h': 107,\n",
       " 'e': 500,\n",
       " 'n': 393,\n",
       " ' ': 729,\n",
       " 'i': 293,\n",
       " 's': 245,\n",
       " 'T': 16,\n",
       " 'a': 308,\n",
       " 't': 388,\n",
       " 'P': 21,\n",
       " 'o': 382,\n",
       " 'w': 65,\n",
       " 'r': 259,\n",
       " '-': 18,\n",
       " 'D': 35,\n",
       " 'L': 17,\n",
       " 'c': 212,\n",
       " 'd': 133,\n",
       " 'u': 117,\n",
       " 'm': 91,\n",
       " 'l': 127,\n",
       " 'y': 82,\n",
       " '?': 15,\n",
       " '#': 145,\n",
       " 'p': 88,\n",
       " '/': 9,\n",
       " 'g': 63,\n",
       " 'f': 114,\n",
       " ',': 27,\n",
       " 'v': 31,\n",
       " '1': 9,\n",
       " '5': 9,\n",
       " '\\n': 49,\n",
       " '.': 19,\n",
       " 'M': 9,\n",
       " 'b': 45,\n",
       " 'z': 5,\n",
       " 'H': 7,\n",
       " 'S': 4,\n",
       " 'R': 26,\n",
       " 'V': 3,\n",
       " 'C': 38,\n",
       " ':': 14,\n",
       " 'I': 11,\n",
       " '(': 4,\n",
       " ')': 4,\n",
       " 'A': 9,\n",
       " 'q': 11,\n",
       " 'B': 4,\n",
       " 'N': 7,\n",
       " 'k': 3,\n",
       " '0': 18,\n",
       " '%': 2,\n",
       " '6': 4,\n",
       " '2': 5,\n",
       " 'O': 1,\n",
       " 'E': 1,\n",
       " '7': 2,\n",
       " '4': 2,\n",
       " 'X': 1,\n",
       " 'F': 1,\n",
       " 'K': 1,\n",
       " '9': 1}"
      ]
     },
     "execution_count": 6,
     "metadata": {},
     "output_type": "execute_result"
    }
   ],
   "source": [
    "alpha_count"
   ]
  },
  {
   "cell_type": "code",
   "execution_count": null,
   "metadata": {},
   "outputs": [],
   "source": []
  }
 ],
 "metadata": {
  "kernelspec": {
   "display_name": "Python 3",
   "language": "python",
   "name": "python3"
  },
  "language_info": {
   "codemirror_mode": {
    "name": "ipython",
    "version": 3
   },
   "file_extension": ".py",
   "mimetype": "text/x-python",
   "name": "python",
   "nbconvert_exporter": "python",
   "pygments_lexer": "ipython3",
   "version": "3.7.4"
  }
 },
 "nbformat": 4,
 "nbformat_minor": 2
}
